{
 "cells": [
  {
   "cell_type": "markdown",
   "id": "040e5139",
   "metadata": {},
   "source": [
    "# Build a scatter plot for ‘Close’ Values of ETH and BTC for years: 2016,17,18 & 19.\n",
    "\n"
   ]
  },
  {
   "cell_type": "code",
   "execution_count": 56,
   "id": "f04a3b1a",
   "metadata": {},
   "outputs": [],
   "source": [
    "#loading libraries\n",
    "import pandas as pd\n",
    "import numpy as np\n",
    "from datetime import datetime\n",
    "import matplotlib.pyplot as plt\n",
    "import matplotlib.dates as mdates\n",
    "from matplotlib.pyplot import figure\n",
    "from matplotlib.dates import DateFormatter\n",
    "import random\n",
    "import seaborn as sns\n",
    "import warnings\n",
    "warnings.simplefilter(\"ignore\")\n",
    "%matplotlib Inline"
   ]
  },
  {
   "cell_type": "code",
   "execution_count": 57,
   "id": "78f43070",
   "metadata": {},
   "outputs": [],
   "source": [
    "#load the dataset\n",
    "data_btc=pd.read_csv(r\"D:\\Downloads\\coin_Bitcoin.csv\")\n",
    "data_eth=pd.read_csv(r\"D:\\Downloads\\coin_Ethereum.csv\")"
   ]
  },
  {
   "cell_type": "code",
   "execution_count": 58,
   "id": "fe37efc9",
   "metadata": {},
   "outputs": [
    {
     "data": {
      "text/html": [
       "<div>\n",
       "<style scoped>\n",
       "    .dataframe tbody tr th:only-of-type {\n",
       "        vertical-align: middle;\n",
       "    }\n",
       "\n",
       "    .dataframe tbody tr th {\n",
       "        vertical-align: top;\n",
       "    }\n",
       "\n",
       "    .dataframe thead th {\n",
       "        text-align: right;\n",
       "    }\n",
       "</style>\n",
       "<table border=\"1\" class=\"dataframe\">\n",
       "  <thead>\n",
       "    <tr style=\"text-align: right;\">\n",
       "      <th></th>\n",
       "      <th>SNo</th>\n",
       "      <th>Name</th>\n",
       "      <th>Symbol</th>\n",
       "      <th>Date</th>\n",
       "      <th>High</th>\n",
       "      <th>Low</th>\n",
       "      <th>Open</th>\n",
       "      <th>Close</th>\n",
       "      <th>Volume</th>\n",
       "      <th>Marketcap</th>\n",
       "    </tr>\n",
       "  </thead>\n",
       "  <tbody>\n",
       "    <tr>\n",
       "      <th>2989</th>\n",
       "      <td>2990</td>\n",
       "      <td>Bitcoin</td>\n",
       "      <td>BTC</td>\n",
       "      <td>2021-07-05 23:59:59</td>\n",
       "      <td>35284.344430</td>\n",
       "      <td>33213.661034</td>\n",
       "      <td>35284.344430</td>\n",
       "      <td>33746.002456</td>\n",
       "      <td>2.672155e+10</td>\n",
       "      <td>6.326962e+11</td>\n",
       "    </tr>\n",
       "    <tr>\n",
       "      <th>2990</th>\n",
       "      <td>2991</td>\n",
       "      <td>Bitcoin</td>\n",
       "      <td>BTC</td>\n",
       "      <td>2021-07-06 23:59:59</td>\n",
       "      <td>35038.536363</td>\n",
       "      <td>33599.916169</td>\n",
       "      <td>33723.509655</td>\n",
       "      <td>34235.193451</td>\n",
       "      <td>2.650126e+10</td>\n",
       "      <td>6.418992e+11</td>\n",
       "    </tr>\n",
       "  </tbody>\n",
       "</table>\n",
       "</div>"
      ],
      "text/plain": [
       "       SNo     Name Symbol                 Date          High           Low  \\\n",
       "2989  2990  Bitcoin    BTC  2021-07-05 23:59:59  35284.344430  33213.661034   \n",
       "2990  2991  Bitcoin    BTC  2021-07-06 23:59:59  35038.536363  33599.916169   \n",
       "\n",
       "              Open         Close        Volume     Marketcap  \n",
       "2989  35284.344430  33746.002456  2.672155e+10  6.326962e+11  \n",
       "2990  33723.509655  34235.193451  2.650126e+10  6.418992e+11  "
      ]
     },
     "execution_count": 58,
     "metadata": {},
     "output_type": "execute_result"
    }
   ],
   "source": [
    "data_btc.tail(2)"
   ]
  },
  {
   "cell_type": "code",
   "execution_count": 59,
   "id": "b8a04e26",
   "metadata": {},
   "outputs": [
    {
     "data": {
      "text/html": [
       "<div>\n",
       "<style scoped>\n",
       "    .dataframe tbody tr th:only-of-type {\n",
       "        vertical-align: middle;\n",
       "    }\n",
       "\n",
       "    .dataframe tbody tr th {\n",
       "        vertical-align: top;\n",
       "    }\n",
       "\n",
       "    .dataframe thead th {\n",
       "        text-align: right;\n",
       "    }\n",
       "</style>\n",
       "<table border=\"1\" class=\"dataframe\">\n",
       "  <thead>\n",
       "    <tr style=\"text-align: right;\">\n",
       "      <th></th>\n",
       "      <th>SNo</th>\n",
       "      <th>Name</th>\n",
       "      <th>Symbol</th>\n",
       "      <th>Date</th>\n",
       "      <th>High</th>\n",
       "      <th>Low</th>\n",
       "      <th>Open</th>\n",
       "      <th>Close</th>\n",
       "      <th>Volume</th>\n",
       "      <th>Marketcap</th>\n",
       "    </tr>\n",
       "  </thead>\n",
       "  <tbody>\n",
       "    <tr>\n",
       "      <th>2158</th>\n",
       "      <td>2159</td>\n",
       "      <td>Ethereum</td>\n",
       "      <td>ETH</td>\n",
       "      <td>05/07/21 23:59</td>\n",
       "      <td>2321.922836</td>\n",
       "      <td>2163.041394</td>\n",
       "      <td>2321.922836</td>\n",
       "      <td>2198.582464</td>\n",
       "      <td>20103794829</td>\n",
       "      <td>2.562980e+11</td>\n",
       "    </tr>\n",
       "    <tr>\n",
       "      <th>2159</th>\n",
       "      <td>2160</td>\n",
       "      <td>Ethereum</td>\n",
       "      <td>ETH</td>\n",
       "      <td>06/07/21 23:59</td>\n",
       "      <td>2346.294874</td>\n",
       "      <td>2197.919385</td>\n",
       "      <td>2197.919385</td>\n",
       "      <td>2324.679449</td>\n",
       "      <td>20891861314</td>\n",
       "      <td>2.710290e+11</td>\n",
       "    </tr>\n",
       "  </tbody>\n",
       "</table>\n",
       "</div>"
      ],
      "text/plain": [
       "       SNo      Name Symbol            Date         High          Low  \\\n",
       "2158  2159  Ethereum    ETH  05/07/21 23:59  2321.922836  2163.041394   \n",
       "2159  2160  Ethereum    ETH  06/07/21 23:59  2346.294874  2197.919385   \n",
       "\n",
       "             Open        Close       Volume     Marketcap  \n",
       "2158  2321.922836  2198.582464  20103794829  2.562980e+11  \n",
       "2159  2197.919385  2324.679449  20891861314  2.710290e+11  "
      ]
     },
     "execution_count": 59,
     "metadata": {},
     "output_type": "execute_result"
    }
   ],
   "source": [
    "data_eth.tail(2)"
   ]
  },
  {
   "cell_type": "code",
   "execution_count": 60,
   "id": "679e3e01",
   "metadata": {},
   "outputs": [],
   "source": [
    "#convert date into datetime\n",
    "data_btc['Date'] = data_btc['Date'].astype('datetime64[ns]')\n",
    "data_eth['Date'] = data_eth['Date'].astype('datetime64[ns]')"
   ]
  },
  {
   "cell_type": "code",
   "execution_count": 61,
   "id": "d0109e5e",
   "metadata": {},
   "outputs": [],
   "source": [
    "#correcting date format\n",
    "data_btc['Date'] = data_btc['Date'].dt.strftime('%d-%m-%Y')\n",
    "data_eth['Date'] = data_eth['Date'].dt.strftime('%d-%m-%Y')"
   ]
  },
  {
   "cell_type": "code",
   "execution_count": 62,
   "id": "773ad6b2",
   "metadata": {},
   "outputs": [],
   "source": [
    "data_btc = data_btc.set_index(pd.DatetimeIndex(data_btc['Date'].values))\n",
    "data_eth = data_eth.set_index(pd.DatetimeIndex(data_eth['Date'].values))"
   ]
  },
  {
   "cell_type": "code",
   "execution_count": 64,
   "id": "f3695e4a",
   "metadata": {},
   "outputs": [],
   "source": [
    "data_btc = data_btc.loc[data_btc.Date['01-01-2016' : '31-01-2019']]"
   ]
  },
  {
   "cell_type": "code",
   "execution_count": 65,
   "id": "5350f517",
   "metadata": {},
   "outputs": [],
   "source": [
    "data_eth = data_eth.loc[data_eth.Date['01-01-2016' : '31-01-2019']]"
   ]
  },
  {
   "cell_type": "code",
   "execution_count": 67,
   "id": "a8baaaa9",
   "metadata": {},
   "outputs": [],
   "source": [
    "crypto_data=pd.DataFrame({'BTC':data_btc['Marketcap'],'ETH':data_eth['Marketcap']})"
   ]
  },
  {
   "cell_type": "code",
   "execution_count": 68,
   "id": "f4f41325",
   "metadata": {},
   "outputs": [
    {
     "data": {
      "text/html": [
       "<div>\n",
       "<style scoped>\n",
       "    .dataframe tbody tr th:only-of-type {\n",
       "        vertical-align: middle;\n",
       "    }\n",
       "\n",
       "    .dataframe tbody tr th {\n",
       "        vertical-align: top;\n",
       "    }\n",
       "\n",
       "    .dataframe thead th {\n",
       "        text-align: right;\n",
       "    }\n",
       "</style>\n",
       "<table border=\"1\" class=\"dataframe\">\n",
       "  <thead>\n",
       "    <tr style=\"text-align: right;\">\n",
       "      <th></th>\n",
       "      <th>BTC</th>\n",
       "      <th>ETH</th>\n",
       "    </tr>\n",
       "  </thead>\n",
       "  <tbody>\n",
       "    <tr>\n",
       "      <th>2019-01-27</th>\n",
       "      <td>6.273727e+10</td>\n",
       "      <td>1.186167e+10</td>\n",
       "    </tr>\n",
       "    <tr>\n",
       "      <th>2019-01-28</th>\n",
       "      <td>6.075657e+10</td>\n",
       "      <td>1.115046e+10</td>\n",
       "    </tr>\n",
       "    <tr>\n",
       "      <th>2019-01-29</th>\n",
       "      <td>6.037187e+10</td>\n",
       "      <td>1.104835e+10</td>\n",
       "    </tr>\n",
       "    <tr>\n",
       "      <th>2019-01-30</th>\n",
       "      <td>6.104426e+10</td>\n",
       "      <td>1.139628e+10</td>\n",
       "    </tr>\n",
       "    <tr>\n",
       "      <th>2019-01-31</th>\n",
       "      <td>6.055390e+10</td>\n",
       "      <td>1.120474e+10</td>\n",
       "    </tr>\n",
       "  </tbody>\n",
       "</table>\n",
       "</div>"
      ],
      "text/plain": [
       "                     BTC           ETH\n",
       "2019-01-27  6.273727e+10  1.186167e+10\n",
       "2019-01-28  6.075657e+10  1.115046e+10\n",
       "2019-01-29  6.037187e+10  1.104835e+10\n",
       "2019-01-30  6.104426e+10  1.139628e+10\n",
       "2019-01-31  6.055390e+10  1.120474e+10"
      ]
     },
     "execution_count": 68,
     "metadata": {},
     "output_type": "execute_result"
    }
   ],
   "source": [
    "crypto_data.tail(5)"
   ]
  },
  {
   "cell_type": "code",
   "execution_count": 69,
   "id": "913f3a84",
   "metadata": {},
   "outputs": [],
   "source": [
    "#Dropped the missing valued rows.\n",
    "crypto_data.dropna(inplace=True)"
   ]
  },
  {
   "cell_type": "markdown",
   "id": "54c4527a",
   "metadata": {},
   "source": [
    "# Scatter plot"
   ]
  },
  {
   "cell_type": "code",
   "execution_count": 70,
   "id": "627f7846",
   "metadata": {},
   "outputs": [
    {
     "data": {
      "text/plain": [
       "<Figure size 1080x720 with 0 Axes>"
      ]
     },
     "metadata": {},
     "output_type": "display_data"
    },
    {
     "data": {
      "image/png": "[encoded data removed]",
      "text/plain": [
       "<Figure size 432x288 with 1 Axes>"
      ]
     },
     "metadata": {
      "needs_background": "light"
     },
     "output_type": "display_data"
    }
   ],
   "source": [
    "import pandas as pd\n",
    "import matplotlib.pyplot as plt\n",
    "                      \n",
    "x= ['BTC']; y = ['ETH']\n",
    "plt.figure(figsize=[15,10])\n",
    "crypto_data.plot.scatter(x, y, s=50, color='purple');\n",
    "plt.grid(True)\n",
    "plt.title('Close Values of BTC/ ETH for years: 2016 to 2019', fontsize=14, color='black')\n",
    "plt.xlabel(\"BTC Close\",fontsize=12, color='black')\n",
    "plt.ylabel(\"ETH Close\", fontsize=12, color='black') \n",
    "plt.show()"
   ]
  }
 ],
 "metadata": {
  "kernelspec": {
   "display_name": "Python 3 (ipykernel)",
   "language": "python",
   "name": "python3"
  },
  "language_info": {
   "codemirror_mode": {
    "name": "ipython",
    "version": 3
   },
   "file_extension": ".py",
   "mimetype": "text/x-python",
   "name": "python",
   "nbconvert_exporter": "python",
   "pygments_lexer": "ipython3",
   "version": "3.10.2"
  }
 },
 "nbformat": 4,
 "nbformat_minor": 5
}
